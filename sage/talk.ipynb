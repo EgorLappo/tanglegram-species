{
 "cells": [
  {
   "cell_type": "markdown",
   "id": "4ca787b0",
   "metadata": {},
   "source": [
    "# Combinatorial Species and Mathematical Biology\n",
    "\n",
    "## Trees\n",
    "\n",
    "Recall the basic species.\n",
    "\n",
    "* $1$ is the empty set species\n",
    "\n",
    "* $X$ is the singleton species\n",
    "\n",
    "* $E$ is the set species\n",
    "\n",
    "### Rooted trees\n",
    "\n",
    "Let's try to define the species $\\mathcal A$ of rooted trees on $n$ nodes. Each tree consists of a single **root**, and a **set** of root subtrees. In the \"functional equation\" language of species this becomes\n",
    "\n",
    "$$\n",
    "\\mathcal A = X \\cdot E(\\mathcal A).\n",
    "$$\n"
   ]
  },
  {
   "cell_type": "code",
   "execution_count": null,
   "id": "127f88b1",
   "metadata": {},
   "outputs": [],
   "source": [
    "from sage.combinat.species.library import *\n",
    "\n",
    "One = EmptySetSpecies()\n",
    "X = SingletonSpecies()\n",
    "E = SetSpecies()\n",
    "\n",
    "# define A\n",
    "A = "
   ]
  },
  {
   "cell_type": "markdown",
   "id": "3ebc1c3b",
   "metadata": {},
   "source": [
    "This allows us to perform labeled and unlabeled enumeration."
   ]
  },
  {
   "cell_type": "code",
   "execution_count": null,
   "id": "0a2d88e9",
   "metadata": {},
   "outputs": [],
   "source": [
    "As = A.generating_series()\n",
    "\n",
    "print('generating series:')\n",
    "print(As)\n",
    "\n",
    "Al = [factorial(i)*As.coefficient(i) for i in range(1,11)]\n",
    "\n",
    "print('counts of labeled structures:')\n",
    "print(Ac)\n",
    "\n",
    "Ais = A.isotype_generating_series()\n",
    "\n",
    "print('isotype generating series:')\n",
    "print(Ais)\n",
    "\n",
    "Au = Ais[:11]\n",
    "\n",
    "print('counts of unlabeled structures:')\n",
    "print(Au)"
   ]
  },
  {
   "cell_type": "code",
   "execution_count": null,
   "id": "fcc55583",
   "metadata": {},
   "outputs": [],
   "source": [
    "# search OEIS for Al"
   ]
  },
  {
   "cell_type": "code",
   "execution_count": null,
   "id": "13b6bfdd",
   "metadata": {},
   "outputs": [],
   "source": [
    "# search OEIS for Au"
   ]
  },
  {
   "cell_type": "markdown",
   "id": "8be582eb",
   "metadata": {},
   "source": [
    "Searching OEIS gives us the right sequence IDs as the first option. In particular, the number of rooted labeled trees is $n^{n-1}$.\n",
    "\n",
    "### Binary rooted trees\n",
    "\n",
    "Now let's try planar binary trees $\\mathcal B$. There is one tree on the empty set, and otherwise a tree is a **root** node, together with a **left subtree** and the **right subtree**"
   ]
  },
  {
   "cell_type": "code",
   "execution_count": null,
   "id": "a438f8eb",
   "metadata": {},
   "outputs": [],
   "source": [
    "# define B\n",
    "B = "
   ]
  },
  {
   "cell_type": "code",
   "execution_count": null,
   "id": "8a450bd7",
   "metadata": {},
   "outputs": [],
   "source": [
    "Bis = B.isotype_generating_series()\n",
    "Bu = Bis[:11]\n",
    "\n",
    "print('isotype generating series:')\n",
    "print(Bis)"
   ]
  },
  {
   "cell_type": "code",
   "execution_count": null,
   "id": "04a30f5e",
   "metadata": {},
   "outputs": [],
   "source": [
    "# search OEIS"
   ]
  },
  {
   "cell_type": "markdown",
   "id": "095b801e",
   "metadata": {},
   "source": [
    "## Phylogenetic trees\n",
    "\n",
    "But what about phylogenetic trees? The leaves are labeled but the internal nodes aren't.\n",
    "\n",
    "We can solve this:\n",
    "\n",
    "$$ \\mathcal T = X + E_2(\\mathcal T),$$\n",
    "\n",
    "where $E_2$ is a species of pairs. Intuitively, a tree here is either a leaf or an unlabeled root together with a pair of subtrees."
   ]
  },
  {
   "cell_type": "code",
   "execution_count": null,
   "id": "322d23f0",
   "metadata": {},
   "outputs": [],
   "source": [
    "E = SetSpecies()\n",
    "E2 = E.restricted(min=2, max=3)\n",
    "\n",
    "T = "
   ]
  },
  {
   "cell_type": "code",
   "execution_count": null,
   "id": "e0aadae0",
   "metadata": {},
   "outputs": [],
   "source": [
    "Tis = T.isotype_generating_series()\n",
    "Tu = Tis[:17]\n",
    "\n",
    "print('isotype generating series:')\n",
    "print(Tis)"
   ]
  },
  {
   "cell_type": "code",
   "execution_count": null,
   "id": "a2244ff1",
   "metadata": {},
   "outputs": [],
   "source": [
    "# search OEIS for Tu"
   ]
  },
  {
   "cell_type": "markdown",
   "id": "cad7232c",
   "metadata": {},
   "source": [
    "Any trees can be defined like this. For example, here is the multifurcating tree species:"
   ]
  },
  {
   "cell_type": "code",
   "execution_count": null,
   "id": "c3b41e45",
   "metadata": {},
   "outputs": [],
   "source": [
    "E2p = E.restricted(min=2)\n",
    "\n",
    "Tmult = CombinatorialSpecies(min=1)\n",
    "Tmult.define(X + E2p(Tmult))"
   ]
  },
  {
   "cell_type": "code",
   "execution_count": null,
   "id": "8808a863",
   "metadata": {},
   "outputs": [],
   "source": [
    "# lookup in OEIS again\n",
    "oeis(Tmult.isotype_generating_series()[:10])"
   ]
  },
  {
   "cell_type": "markdown",
   "id": "f19d615b",
   "metadata": {},
   "source": [
    "## Tanglegrams\n",
    "\n",
    "In a certain way, tanglegrams are simply pairs of trees, but it's hard to come up with a correct representation of tanglegrams in the language of combinatorial species.\n",
    "\n",
    "Gessel (2016) introduces a new combinator for species --- the **cartesian product** --- to encode tanglegrams.\n",
    "\n",
    "Recall that the cycle index series for a species $F$ is defined as \n",
    "\n",
    "$$\n",
    "Z_F = \\sum_{n=0}^\\infty \\frac{1}{n!} \\sum_{\\sigma \\in \\mathcal S_n} \\mathrm{fix}\\,F[\\sigma]\\,p_\\sigma\n",
    "$$\n",
    "\n",
    "with $p_\\sigma = x_1^{\\sigma_1}x_2^{\\sigma_2}\\cdots$. Noting that $\\mathrm{fix}\\,F[\\sigma]$ depends only on the cycle type (conjugacy class) of $\\sigma$, we can rewrite $Z_F$ as \n",
    "\n",
    "$$\n",
    "Z_F  \\sum_{n=0}^\\infty \\sum_{\\lambda \\vdash n} \\frac{\\mathrm{fix}\\,F[\\lambda]}{z_\\lambda} p_\\lambda,\n",
    "$$\n",
    "where $\\lambda$ is a partition of $n$, $z_\\lambda = 1^{m_1}m_1!\\,2^{m_2} m_2!\\cdots$, and $p_\\lambda = x_1^{m_1}x_2^{m_2}\\cdots$. This is exactly the representation that is used by `Sage`.\n",
    "\n",
    "With this, the cartesian product of two species $F\\times G$ is defined as a *pair of objects on the same set*, and \n",
    "\n",
    "$$\n",
    "Z_{F\\times G} = \\sum_{n=0}^\\infty \\sum_{\\lambda \\vdash n} \\frac{\\mathrm{fix}\\,F[\\lambda] \\ast \\mathrm{fix}\\,G[\\lambda]}{z_\\lambda} p_\\lambda\n",
    "$$\n",
    "\n",
    "With this, the species of tanglegrams of binary trees is defined as \n",
    "\n",
    "$$\n",
    "\\mathrm{Tang} = \\mathcal T\\times \\mathcal T.\n",
    "$$\n",
    "\n",
    "Cartesian product is not implemented in `Sage`, but we can do it ourselves."
   ]
  },
  {
   "cell_type": "code",
   "execution_count": null,
   "id": "e6684848",
   "metadata": {},
   "outputs": [],
   "source": [
    "def cartprod_isotypes(F, G, n=17):\n",
    "    # extract cycle index series Z_F, G_F\n",
    "    ZF = F.cycle_index_series()\n",
    "    ZG = G.cycle_index_series()\n",
    "    \n",
    "    result = []\n",
    "    \n",
    "    # for terms of each degree,\n",
    "    # extract the coefficients r_lambda and multiply them together\n",
    "    for deg in range(1,n):\n",
    "        \n",
    "        val = 0\n",
    "        \n",
    "        # each partition corresponds to a monomial in the cycle index series\n",
    "        for p_lambda in Partitions(deg).list():\n",
    "            z_lambda = Partition(p_lambda).aut()\n",
    "            \n",
    "            r_lambda_F = ZF.coefficient(deg).coefficient(p_lambda) * z_lambda\n",
    "            r_lambda_G = ZG.coefficient(deg).coefficient(p_lambda) * z_lambda\n",
    "            \n",
    "            val += (r_lambda_F * r_lambda_G) / z_lambda\n",
    "\n",
    "        result.append(val)\n",
    "        \n",
    "    return(result)"
   ]
  },
  {
   "cell_type": "code",
   "execution_count": null,
   "id": "bc43dba9",
   "metadata": {},
   "outputs": [],
   "source": [
    "cartprod_isotypes(T,T)"
   ]
  },
  {
   "cell_type": "code",
   "execution_count": null,
   "id": "4d8cbf55",
   "metadata": {},
   "outputs": [],
   "source": [
    "oeis(cartprod_isotypes(T,T))"
   ]
  },
  {
   "cell_type": "code",
   "execution_count": null,
   "id": "1624c580",
   "metadata": {},
   "outputs": [],
   "source": [
    "cartprod_isotypes(Tmult,Tmult)"
   ]
  },
  {
   "cell_type": "code",
   "execution_count": null,
   "id": "545d9975",
   "metadata": {},
   "outputs": [],
   "source": [
    "oeis(cartprod_isotypes(Tmult,Tmult))"
   ]
  },
  {
   "cell_type": "markdown",
   "id": "9e4b5be7",
   "metadata": {},
   "source": [
    "## Bonus: a different problem\n",
    "\n",
    "Suppose you look at genotypes of $n$ diploid individuals at some locus. Some of the observed $2n$ alleles match. How many identity configurations are there?\n"
   ]
  },
  {
   "cell_type": "markdown",
   "id": "01d6edca",
   "metadata": {},
   "source": [
    "<img style=\"width: 600px;\" src=\"figure1.jpg\" />"
   ]
  },
  {
   "cell_type": "markdown",
   "id": "5047a1cd",
   "metadata": {},
   "source": [
    "Looking at this closely, among the points there is a **set** of nonmatcing alleles, and possibly **bunch of sets** of matching alleles.\n",
    "\n",
    "This immediately suggests the following definition:\n",
    "\n",
    "$$ \n",
    "\\mathcal I = E + E \\cdot E_{1+} (E_{2+})\n",
    "$$\n",
    "where $E_{1+}$ is the species of sets of cardinality $\\geq 1$, and $E_{2+}$ is the species of sets of cardinality $\\geq 2$. \n",
    "\n",
    "This definition says that $\\mathcal I$ is either a set of alleles none of which match another ($E$), **or** a partition of alleles into set of nonmatching alleles ($E$) and at least one set ($E_{1+}$) of matching alleles ($E_{2+}$).\n",
    "\n",
    "Let's compute!"
   ]
  },
  {
   "cell_type": "code",
   "execution_count": null,
   "id": "b276d2a5",
   "metadata": {},
   "outputs": [],
   "source": [
    "E1p = E.restricted(min=1)\n",
    "\n",
    "sp = CombinatorialSpecies()\n",
    "sp.define(E + E*E1p(E2p))"
   ]
  },
  {
   "cell_type": "code",
   "execution_count": null,
   "id": "e001116c",
   "metadata": {},
   "outputs": [],
   "source": [
    "fi = sp.isotype_generating_series()\n",
    "fi"
   ]
  },
  {
   "cell_type": "code",
   "execution_count": null,
   "id": "dbc8304e",
   "metadata": {},
   "outputs": [],
   "source": [
    "oeis(fi[:10])"
   ]
  },
  {
   "cell_type": "code",
   "execution_count": null,
   "id": "a3dbc771",
   "metadata": {},
   "outputs": [],
   "source": [
    "f = sp.generating_series()\n",
    "f"
   ]
  },
  {
   "cell_type": "code",
   "execution_count": null,
   "id": "a550df29",
   "metadata": {},
   "outputs": [],
   "source": [
    "fcoef = [x*factorial(i+1) for i, x in enumerate(sp.generating_series()[1:16])]\n",
    "fcoef"
   ]
  },
  {
   "cell_type": "code",
   "execution_count": null,
   "id": "35eaf7b4",
   "metadata": {},
   "outputs": [],
   "source": [
    "oeis(fcoef)"
   ]
  },
  {
   "cell_type": "markdown",
   "id": "b719af57",
   "metadata": {},
   "source": [
    "Aha! We have discovered... partitions!"
   ]
  }
 ],
 "metadata": {
  "kernelspec": {
   "display_name": "SageMath 10.1",
   "language": "sage",
   "name": "sagemath"
  },
  "language_info": {
   "codemirror_mode": {
    "name": "ipython",
    "version": 3
   },
   "file_extension": ".py",
   "mimetype": "text/x-python",
   "name": "python",
   "nbconvert_exporter": "python",
   "pygments_lexer": "ipython3",
   "version": "3.11.1"
  }
 },
 "nbformat": 4,
 "nbformat_minor": 5
}
