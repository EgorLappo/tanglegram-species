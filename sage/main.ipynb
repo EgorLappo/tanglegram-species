{
 "cells": [
  {
   "cell_type": "markdown",
   "id": "4ca787b0",
   "metadata": {},
   "source": [
    "# Combinatorial Species and Mathematical Biology\n",
    "\n",
    "## Trees\n",
    "\n",
    "Recall the basic species.\n",
    "\n",
    "* $1$ is the empty set species\n",
    "\n",
    "* $X$ is the singleton species\n",
    "\n",
    "* $E$ is the set species\n",
    "\n",
    "### Rooted trees\n",
    "\n",
    "Let's try to define the species $\\mathcal A$ of rooted trees on $n$ nodes. Each tree consists of a single **root**, and a **set** of root subtrees. In the \"functional equation\" language of species this becomes\n",
    "\n",
    "$$\n",
    "\\mathcal A = X \\cdot E(\\mathcal A).\n",
    "$$\n"
   ]
  },
  {
   "cell_type": "code",
   "execution_count": 4,
   "id": "127f88b1",
   "metadata": {},
   "outputs": [],
   "source": [
    "from sage.combinat.species.library import *\n",
    "\n",
    "One = EmptySetSpecies()\n",
    "X = SingletonSpecies()\n",
    "E = SetSpecies()\n",
    "\n",
    "A = CombinatorialSpecies(min=1)\n",
    "A.define(X * E(A))"
   ]
  },
  {
   "cell_type": "markdown",
   "id": "3ebc1c3b",
   "metadata": {},
   "source": [
    "This allows us to perform labeled and unlabeled enumeration."
   ]
  },
  {
   "cell_type": "code",
   "execution_count": 5,
   "id": "0a2d88e9",
   "metadata": {},
   "outputs": [
    {
     "name": "stdout",
     "output_type": "stream",
     "text": [
      "generating series:\n",
      "z + z^2 + 3/2*z^3 + 8/3*z^4 + 125/24*z^5 + 54/5*z^6 + 16807/720*z^7 + O(z^8)\n",
      "counts of labeled structures:\n",
      "[1, 2, 9, 64, 625, 7776, 117649, 2097152, 43046721, 1000000000]\n",
      "isotype generating series:\n",
      "z + z^2 + 2*z^3 + 4*z^4 + 9*z^5 + 20*z^6 + 48*z^7 + O(z^8)\n",
      "counts of unlabeled structures:\n",
      "[1, 1, 2, 4, 9, 20, 48, 115, 286, 719]\n"
     ]
    }
   ],
   "source": [
    "As = A.generating_series()\n",
    "\n",
    "print('generating series:')\n",
    "print(As)\n",
    "\n",
    "Ac = [factorial(i)*As.coefficient(i) for i in range(1,11)]\n",
    "\n",
    "print('counts of labeled structures:')\n",
    "print(Ac)\n",
    "\n",
    "Ais = A.isotype_generating_series()\n",
    "\n",
    "print('isotype generating series:')\n",
    "print(Ais)\n",
    "\n",
    "Au = Ais[:11]\n",
    "\n",
    "print('counts of unlabeled structures:')\n",
    "print(Au)"
   ]
  },
  {
   "cell_type": "code",
   "execution_count": 6,
   "id": "fcc55583",
   "metadata": {},
   "outputs": [
    {
     "data": {
      "text/plain": [
       "A000169: Number of labeled rooted trees with n nodes: n^(n-1)."
      ]
     },
     "execution_count": 6,
     "metadata": {},
     "output_type": "execute_result"
    }
   ],
   "source": [
    "oeis(Ac)[0]"
   ]
  },
  {
   "cell_type": "code",
   "execution_count": 7,
   "id": "13b6bfdd",
   "metadata": {},
   "outputs": [
    {
     "data": {
      "text/plain": [
       "A000081: Number of unlabeled rooted trees with n nodes (or connected functions with a fixed point)."
      ]
     },
     "execution_count": 7,
     "metadata": {},
     "output_type": "execute_result"
    }
   ],
   "source": [
    "oeis(Au)[0]"
   ]
  },
  {
   "cell_type": "markdown",
   "id": "8be582eb",
   "metadata": {},
   "source": [
    "Searching OEIS gives us the right sequence IDs as the first option. In particular, the number of rooted labeled trees is $n^{n-1}$.\n",
    "\n",
    "### Binary rooted trees\n",
    "\n",
    "Now let's try planar binary trees $\\mathcal B$. There is one tree on the empty set of labels, and otherwise a tree is a **root** node, together with a **left subtree** and the **right subtree**"
   ]
  },
  {
   "cell_type": "code",
   "execution_count": 8,
   "id": "a438f8eb",
   "metadata": {},
   "outputs": [],
   "source": [
    "B = CombinatorialSpecies()\n",
    "B.define(One + X * B * B)"
   ]
  },
  {
   "cell_type": "code",
   "execution_count": 6,
   "id": "8a450bd7",
   "metadata": {},
   "outputs": [
    {
     "data": {
      "text/plain": [
       "1 + z + 2*z^2 + 5*z^3 + 14*z^4 + 42*z^5 + 132*z^6 + O(z^7)"
      ]
     },
     "execution_count": 6,
     "metadata": {},
     "output_type": "execute_result"
    }
   ],
   "source": [
    "B.isotype_generating_series()"
   ]
  },
  {
   "cell_type": "code",
   "execution_count": 7,
   "id": "04a30f5e",
   "metadata": {},
   "outputs": [
    {
     "data": {
      "text/plain": [
       "0: A000108: Catalan numbers: C(n) = binomial(2n,n)/(n+1) = (2n)!/(n!(n+1)!).\n",
       "1: A120588: G.f. is 1 + x*c(x), where c(x) is the g.f. of the Catalan numbers (A000108).\n",
       "2: A080937: Number of Catalan paths (nonnegative, starting and ending at 0, step +/-1) of 2*n steps with all values <= 5."
      ]
     },
     "execution_count": 7,
     "metadata": {},
     "output_type": "execute_result"
    }
   ],
   "source": [
    "oeis([1,1,2,5,14,42])"
   ]
  },
  {
   "cell_type": "markdown",
   "id": "095b801e",
   "metadata": {},
   "source": [
    "## Phylogenetic trees\n",
    "\n",
    "But what about phylogenetic trees? The leaves are labeled but the internal nodes aren't.\n",
    "\n",
    "We can solve this:\n",
    "\n",
    "$$ \\mathcal T = X + E_2(\\mathcal T),$$\n",
    "\n",
    "where $E_2$ is a species of pairs. Intuitively, a tree here is either a leaf or an unlabeled root together with a pair of subtrees."
   ]
  },
  {
   "cell_type": "code",
   "execution_count": 20,
   "id": "322d23f0",
   "metadata": {},
   "outputs": [],
   "source": [
    "E = SetSpecies()\n",
    "E2 = E.restricted(min=2, max=3)\n",
    "\n",
    "T = CombinatorialSpecies(min=1)\n",
    "T.define(X + E2(T))"
   ]
  },
  {
   "cell_type": "code",
   "execution_count": 21,
   "id": "e0aadae0",
   "metadata": {},
   "outputs": [
    {
     "name": "stdout",
     "output_type": "stream",
     "text": [
      "isotype generating series:\n",
      "z + z^2 + z^3 + 2*z^4 + 3*z^5 + 6*z^6 + 11*z^7 + O(z^8)\n",
      "counts of unlabeled structures:\n",
      "[1, 1, 1, 2, 3, 6, 11, 23, 46, 98, 207, 451, 983, 2179, 4850, 10905]\n"
     ]
    }
   ],
   "source": [
    "Tis = T.isotype_generating_series()\n",
    "\n",
    "print('isotype generating series:')\n",
    "print(Tis)\n",
    "\n",
    "Tu = Tis[:17]\n",
    "\n",
    "print('counts of unlabeled structures:')\n",
    "print(Tu)"
   ]
  },
  {
   "cell_type": "code",
   "execution_count": 22,
   "id": "a2244ff1",
   "metadata": {},
   "outputs": [
    {
     "data": {
      "text/plain": [
       "0: A001190: Wedderburn-Etherington numbers: unlabeled binary rooted trees (every node has outdegree 0 or 2) with n endpoints (and 2n-1 nodes in all)."
      ]
     },
     "execution_count": 22,
     "metadata": {},
     "output_type": "execute_result"
    }
   ],
   "source": [
    "oeis(Tu)"
   ]
  },
  {
   "cell_type": "markdown",
   "id": "f3baa4e6",
   "metadata": {},
   "source": [
    "By the way, the cycle index series is implicitly used in this calculation:"
   ]
  },
  {
   "cell_type": "code",
   "execution_count": 23,
   "id": "a0a432e4",
   "metadata": {},
   "outputs": [
    {
     "data": {
      "text/plain": [
       "p[1] + (1/2*p[1,1]+1/2*p[2]) + (1/2*p[1,1,1]+1/2*p[2,1]) + (5/8*p[1,1,1,1]+3/4*p[2,1,1]+3/8*p[2,2]+1/4*p[4]) + (7/8*p[1,1,1,1,1]+5/4*p[2,1,1,1]+5/8*p[2,2,1]+1/4*p[4,1]) + (21/16*p[1,1,1,1,1,1]+35/16*p[2,1,1,1,1]+21/16*p[2,2,1,1]+7/16*p[2,2,2]+3/8*p[4,1,1]+3/8*p[4,2]) + (33/16*p[1,1,1,1,1,1,1]+63/16*p[2,1,1,1,1,1]+45/16*p[2,2,1,1,1]+15/16*p[2,2,2,1]+5/8*p[4,1,1,1]+5/8*p[4,2,1]) + O^8"
      ]
     },
     "execution_count": 23,
     "metadata": {},
     "output_type": "execute_result"
    }
   ],
   "source": [
    "T.cycle_index_series()"
   ]
  },
  {
   "cell_type": "markdown",
   "id": "cad7232c",
   "metadata": {},
   "source": [
    "Any trees can be defined like this. For example, here is the multifurcating tree species:"
   ]
  },
  {
   "cell_type": "code",
   "execution_count": 42,
   "id": "c3b41e45",
   "metadata": {},
   "outputs": [],
   "source": [
    "E2p = E.restricted(min=2)\n",
    "\n",
    "Tmult = CombinatorialSpecies(min=1)\n",
    "Tmult.define(X + E2p(Tmult))"
   ]
  },
  {
   "cell_type": "code",
   "execution_count": 25,
   "id": "8808a863",
   "metadata": {},
   "outputs": [
    {
     "data": {
      "text/plain": [
       "0: A000669: Number of series-reduced planted trees with n leaves. Also the number of essentially series series-parallel networks with n edges; also the number of essentially parallel series-parallel networks with n edges.\n",
       "1: A292215: Number of (unlabeled) rooted trees with n leaf nodes and without unary nodes or outdegrees larger than nine.\n",
       "2: A292216: Number of (unlabeled) rooted trees with n leaf nodes and without unary nodes or outdegrees larger than ten."
      ]
     },
     "execution_count": 25,
     "metadata": {},
     "output_type": "execute_result"
    }
   ],
   "source": [
    "# lookup in OEIS \n",
    "oeis(Tmult.isotype_generating_series()[:10])"
   ]
  },
  {
   "cell_type": "markdown",
   "id": "f19d615b",
   "metadata": {},
   "source": [
    "## Tanglegrams\n",
    "\n",
    "The "
   ]
  },
  {
   "cell_type": "code",
   "execution_count": 35,
   "id": "e6684848",
   "metadata": {},
   "outputs": [],
   "source": [
    "def cartprod_isotypes(F, G, n=17):\n",
    "    # extract cycle index series Z_F, G_F\n",
    "    ZF = F.cycle_index_series()\n",
    "    ZG = G.cycle_index_series()\n",
    "    \n",
    "    result = []\n",
    "    \n",
    "    # for terms of each degree,\n",
    "    # extract the coefficients r_lambda and multiply them together\n",
    "    for deg in range(1,n):\n",
    "        \n",
    "        val = 0\n",
    "        \n",
    "        # each partition corresponds to a monomial in the cycle index series\n",
    "        for p_lambda in Partitions(deg).list():\n",
    "            z_lambda = Partition(p_lambda).aut()\n",
    "            \n",
    "            r_lambda_F = ZF.coefficient(deg).coefficient(p_lambda) * z_lambda\n",
    "            r_lambda_G = ZG.coefficient(deg).coefficient(p_lambda) * z_lambda\n",
    "            \n",
    "            val += (r_lambda_F * r_lambda_G) / z_lambda\n",
    "\n",
    "        result.append(val)\n",
    "        \n",
    "    return(result)"
   ]
  },
  {
   "cell_type": "code",
   "execution_count": 36,
   "id": "bc43dba9",
   "metadata": {},
   "outputs": [
    {
     "data": {
      "text/plain": [
       "[1,\n",
       " 1,\n",
       " 2,\n",
       " 13,\n",
       " 114,\n",
       " 1509,\n",
       " 25595,\n",
       " 535753,\n",
       " 13305590,\n",
       " 382728552,\n",
       " 12515198465,\n",
       " 458621603279,\n",
       " 18619063906689,\n",
       " 829607273337513,\n",
       " 40253392454978755,\n",
       " 2112878091130119496]"
      ]
     },
     "execution_count": 36,
     "metadata": {},
     "output_type": "execute_result"
    }
   ],
   "source": [
    "cartprod_isotypes(T,T)"
   ]
  },
  {
   "cell_type": "code",
   "execution_count": 37,
   "id": "4d8cbf55",
   "metadata": {},
   "outputs": [
    {
     "data": {
      "text/plain": [
       "0: A258620: Number of tanglegrams of size n."
      ]
     },
     "execution_count": 37,
     "metadata": {},
     "output_type": "execute_result"
    }
   ],
   "source": [
    "oeis(cartprod_isotypes(T,T))"
   ]
  },
  {
   "cell_type": "code",
   "execution_count": 38,
   "id": "1624c580",
   "metadata": {},
   "outputs": [
    {
     "data": {
      "text/plain": [
       "[1,\n",
       " 1,\n",
       " 5,\n",
       " 51,\n",
       " 757,\n",
       " 16416,\n",
       " 461231,\n",
       " 16021550,\n",
       " 662197510,\n",
       " 31749450007,\n",
       " 1732478051823,\n",
       " 106025572201434,\n",
       " 7192665669790893,\n",
       " 535756912504764218,\n",
       " 43471544417828923777,\n",
       " 3816784803681841133512]"
      ]
     },
     "execution_count": 38,
     "metadata": {},
     "output_type": "execute_result"
    }
   ],
   "source": [
    "cartprod_isotypes(Tmult,Tmult)"
   ]
  },
  {
   "cell_type": "code",
   "execution_count": 39,
   "id": "545d9975",
   "metadata": {},
   "outputs": [
    {
     "data": {
      "text/plain": [
       "0: A339234: Number of series-reduced tanglegrams with n unlabeled leaves."
      ]
     },
     "execution_count": 39,
     "metadata": {},
     "output_type": "execute_result"
    }
   ],
   "source": [
    "oeis(cartprod_isotypes(Tmult,Tmult))"
   ]
  },
  {
   "cell_type": "markdown",
   "id": "9e4b5be7",
   "metadata": {},
   "source": [
    "## Bonus: a different problem\n",
    "\n"
   ]
  },
  {
   "cell_type": "code",
   "execution_count": 43,
   "id": "b276d2a5",
   "metadata": {},
   "outputs": [],
   "source": [
    "E1p = E.restricted(min=1)\n",
    "\n",
    "sp = CombinatorialSpecies()\n",
    "sp.define(E + E*E1p(E2p))"
   ]
  },
  {
   "cell_type": "code",
   "execution_count": 47,
   "id": "e001116c",
   "metadata": {},
   "outputs": [
    {
     "data": {
      "text/plain": [
       "1 + z + 2*z^2 + 3*z^3 + 5*z^4 + 7*z^5 + 11*z^6 + O(z^7)"
      ]
     },
     "execution_count": 47,
     "metadata": {},
     "output_type": "execute_result"
    }
   ],
   "source": [
    "fi = sp.isotype_generating_series()\n",
    "fi"
   ]
  },
  {
   "cell_type": "code",
   "execution_count": 48,
   "id": "dbc8304e",
   "metadata": {},
   "outputs": [
    {
     "data": {
      "text/plain": [
       "0: A000041: a(n) is the number of partitions of n (the partition numbers).\n",
       "1: A332280: Number of integer partitions of n with unimodal run-lengths.\n",
       "2: A026815: Number of partitions of n in which the greatest part is 9."
      ]
     },
     "execution_count": 48,
     "metadata": {},
     "output_type": "execute_result"
    }
   ],
   "source": [
    "oeis(fi[:10])"
   ]
  },
  {
   "cell_type": "code",
   "execution_count": 49,
   "id": "a3dbc771",
   "metadata": {},
   "outputs": [
    {
     "data": {
      "text/plain": [
       "1 + z + z^2 + 5/6*z^3 + 5/8*z^4 + 13/30*z^5 + 203/720*z^6 + O(z^7)"
      ]
     },
     "execution_count": 49,
     "metadata": {},
     "output_type": "execute_result"
    }
   ],
   "source": [
    "f = sp.generating_series()\n",
    "f"
   ]
  },
  {
   "cell_type": "code",
   "execution_count": 53,
   "id": "a550df29",
   "metadata": {},
   "outputs": [
    {
     "data": {
      "text/plain": [
       "[1,\n",
       " 2,\n",
       " 5,\n",
       " 15,\n",
       " 52,\n",
       " 203,\n",
       " 877,\n",
       " 4140,\n",
       " 21147,\n",
       " 115975,\n",
       " 678570,\n",
       " 4213597,\n",
       " 27644437,\n",
       " 190899322,\n",
       " 1382958545]"
      ]
     },
     "execution_count": 53,
     "metadata": {},
     "output_type": "execute_result"
    }
   ],
   "source": [
    "fcoef = [x*factorial(i+1) for i, x in enumerate(sp.generating_series()[1:16])]\n",
    "fcoef"
   ]
  },
  {
   "cell_type": "code",
   "execution_count": 54,
   "id": "35eaf7b4",
   "metadata": {},
   "outputs": [
    {
     "data": {
      "text/plain": [
       "0: A000110: Bell or exponential numbers: number of ways to partition a set of n labeled elements.\n",
       "1: A203646: Number of arrays of n 0..15 integers with new values introduced in order 0..15 but otherwise unconstrained.\n",
       "2: A203645: Number of arrays of n 0..14 integers with new values introduced in order 0..14 but otherwise unconstrained."
      ]
     },
     "execution_count": 54,
     "metadata": {},
     "output_type": "execute_result"
    }
   ],
   "source": [
    "oeis(fcoef)"
   ]
  },
  {
   "cell_type": "code",
   "execution_count": null,
   "id": "d220aaa5",
   "metadata": {},
   "outputs": [],
   "source": []
  }
 ],
 "metadata": {
  "kernelspec": {
   "display_name": "SageMath 10.1",
   "language": "sage",
   "name": "sagemath"
  },
  "language_info": {
   "codemirror_mode": {
    "name": "ipython",
    "version": 3
   },
   "file_extension": ".py",
   "mimetype": "text/x-python",
   "name": "python",
   "nbconvert_exporter": "python",
   "pygments_lexer": "ipython3",
   "version": "3.11.1"
  }
 },
 "nbformat": 4,
 "nbformat_minor": 5
}
